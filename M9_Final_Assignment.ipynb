{
 "cells": [
  {
   "cell_type": "markdown",
   "id": "67a2115e-a222-40c0-9a6b-f9e95cf20f15",
   "metadata": {},
   "source": [
    "**Michael Ward**"
   ]
  },
  {
   "cell_type": "markdown",
   "id": "fdc9e9ea-c92d-48eb-bb96-84ab2becfea6",
   "metadata": {},
   "source": [
    ">Module 9 Final Assignment"
   ]
  },
  {
   "cell_type": "code",
   "execution_count": null,
   "id": "c034f060-60e4-421a-a28b-e09baff35ce1",
   "metadata": {},
   "outputs": [],
   "source": []
  }
 ],
 "metadata": {
  "kernelspec": {
   "display_name": "Python 3 (ipykernel)",
   "language": "python",
   "name": "python3"
  },
  "language_info": {
   "codemirror_mode": {
    "name": "ipython",
    "version": 3
   },
   "file_extension": ".py",
   "mimetype": "text/x-python",
   "name": "python",
   "nbconvert_exporter": "python",
   "pygments_lexer": "ipython3",
   "version": "3.11.5"
  }
 },
 "nbformat": 4,
 "nbformat_minor": 5
}
